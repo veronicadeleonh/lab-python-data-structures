{
 "cells": [
  {
   "cell_type": "markdown",
   "id": "d3bfc191-8885-42ee-b0a0-bbab867c6f9f",
   "metadata": {
    "tags": []
   },
   "source": [
    "# Lab | Flow Control"
   ]
  },
  {
   "cell_type": "markdown",
   "id": "3851fcd1-cf98-4653-9c89-e003b7ec9400",
   "metadata": {},
   "source": [
    "## Exercise: Managing Customer Orders Optimized\n",
    "\n",
    "In the last lab, you were starting an online store that sells various products. To ensure smooth operations, you developed a program that manages customer orders and inventory.\n",
    "\n",
    "You did so without using flow control. Let's go a step further and improve this code.\n",
    "\n",
    "Follow the steps below to complete the exercise:\n",
    "\n",
    "1. Look at your code from the lab data structures, and improve repeated code with loops.\n",
    "\n",
    "2. Instead of asking the user to input the name of three products that a customer wants to order, do the following:\n",
    "    \n",
    "    a. Prompt the user to enter the name of a product that a customer wants to order.\n",
    "    \n",
    "    b. Add the product name to the \"customer_orders\" set.\n",
    "    \n",
    "    c. Ask the user if they want to add another product (yes/no).\n",
    "    \n",
    "    d. Continue the loop until the user does not want to add another product.\n",
    "\n",
    "3. Instead of updating the inventory by subtracting 1 from the quantity of each product, only do it for  the products that were ordered (those in \"customer_orders\")."
   ]
  },
  {
   "cell_type": "code",
   "execution_count": 56,
   "id": "b4aa2462-6c7d-454a-8060-6ab35196b45b",
   "metadata": {},
   "outputs": [
    {
     "name": "stdin",
     "output_type": "stream",
     "text": [
      "Enter the quatity of t-shirt 15\n",
      "Enter the quatity of mug 8\n",
      "Enter the quatity of hat 45\n",
      "Enter the quatity of book 25\n",
      "Enter the quatity of keychain 10\n"
     ]
    }
   ],
   "source": [
    "# 1. Look at your code from the lab data structures, and improve repeated code with loops.\n",
    "\n",
    "products = [\"t-shirt\", \"mug\", \"hat\", \"book\", \"keychain\"]\n",
    "inventory = {}\n",
    "quantities = []\n",
    "customer_orders = set()\n",
    "add_more = \"yes\"\n",
    "\n",
    "\n",
    "for i in products: # Ask the user to input the quantity of each product available in the inventory\n",
    "    quantity_input = int(input(f\"Enter the quatity of {i}\"))\n",
    "    quantities.append(quantity_input)\n",
    "    \n",
    "# print(quantities)\n",
    "\n",
    "for i in products: # Use the product names from the products list as keys in the inventory dictionary\n",
    "    inventory[i] = None\n",
    " \n",
    "# print(inventory)\n",
    "\n",
    "for key,value in zip(inventory, quantities): # Assign quantities as values\n",
    "    inventory[key] = value\n",
    "\n",
    "# print(inventory)"
   ]
  },
  {
   "cell_type": "code",
   "execution_count": 58,
   "id": "5fcc8f93-f66b-4943-93e1-146108e7f0fa",
   "metadata": {},
   "outputs": [
    {
     "name": "stdin",
     "output_type": "stream",
     "text": [
      "Which product would you like to buy?: mug\n"
     ]
    },
    {
     "name": "stdout",
     "output_type": "stream",
     "text": [
      "mug has been added to your order list.\n"
     ]
    },
    {
     "name": "stdin",
     "output_type": "stream",
     "text": [
      "Would you like to add another product? (yes/no):  yes\n",
      "Which product would you like to buy?: t-shirt\n"
     ]
    },
    {
     "name": "stdout",
     "output_type": "stream",
     "text": [
      "t-shirt has been added to your order list.\n"
     ]
    },
    {
     "name": "stdin",
     "output_type": "stream",
     "text": [
      "Would you like to add another product? (yes/no):  yes\n",
      "Which product would you like to buy?: keychain\n"
     ]
    },
    {
     "name": "stdout",
     "output_type": "stream",
     "text": [
      "keychain has been added to your order list.\n"
     ]
    },
    {
     "name": "stdin",
     "output_type": "stream",
     "text": [
      "Would you like to add another product? (yes/no):  no\n"
     ]
    },
    {
     "name": "stdout",
     "output_type": "stream",
     "text": [
      "{'t-shirt', 'mug', 'keychain'}\n",
      "That's it! Thanks for checking our products :)\n"
     ]
    }
   ],
   "source": [
    "# Prompt the user to enter the name of a product that a customer wants to order.\n",
    "# Add the product name to the \"customer_orders\" set.\n",
    "# Ask the user if they want to add another product (yes/no).\n",
    "# Continue the loop until the user does not want to add another product.\n",
    "\n",
    "\n",
    "while add_more == \"yes\":\n",
    "    order_input = input(\"Which product would you like to buy?:\")\n",
    "\n",
    "    if order_input in products:\n",
    "        customer_orders.add(order_input)\n",
    "        print(f\"{order_input} has been added to your order list.\")\n",
    "    else:\n",
    "        print(f\"'{order_input}' is not available. Choose a product from the list ({', '.join(products)})\")\n",
    "    \n",
    "    add_more = input(\"Would you like to add another product? (yes/no): \").lower()\n",
    "\n",
    "print(customer_orders)\n",
    "print(\"That's it! Thanks for checking our products :)\")\n"
   ]
  },
  {
   "cell_type": "code",
   "execution_count": 72,
   "id": "7d42508f-59b3-4ea6-a06f-435e33b962df",
   "metadata": {},
   "outputs": [
    {
     "name": "stdout",
     "output_type": "stream",
     "text": [
      "{'t-shirt': 8, 'mug': 1, 'hat': 38, 'book': 18, 'keychain': 3}\n",
      "(\"Here is the updated inventory:{'t-shirt': 8, 'mug': 1, 'hat': 38, 'book': \"\n",
      " \"18, 'keychain': 3}\")\n"
     ]
    }
   ],
   "source": [
    "# Instead of updating the inventory by subtracting 1 from the quantity of each product, only do it for the products that were ordered (those in \"customer_orders\").\n",
    "\n",
    "for product in customer_orders:\n",
    "        if product in inventory:\n",
    "            inventory[product] -= 1\n",
    "\n",
    "print(inventory)\n",
    "\n",
    "import pprint\n",
    "pprint.pprint(f\"Here is the updated inventory:{inventory}\")"
   ]
  },
  {
   "cell_type": "code",
   "execution_count": null,
   "id": "8b3d6c48-2da1-49e1-99a1-10017e1b4409",
   "metadata": {},
   "outputs": [],
   "source": []
  }
 ],
 "metadata": {
  "kernelspec": {
   "display_name": "Python 3 (ipykernel)",
   "language": "python",
   "name": "python3"
  },
  "language_info": {
   "codemirror_mode": {
    "name": "ipython",
    "version": 3
   },
   "file_extension": ".py",
   "mimetype": "text/x-python",
   "name": "python",
   "nbconvert_exporter": "python",
   "pygments_lexer": "ipython3",
   "version": "3.12.7"
  }
 },
 "nbformat": 4,
 "nbformat_minor": 5
}
