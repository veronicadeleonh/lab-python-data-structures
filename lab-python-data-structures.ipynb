{
 "cells": [
  {
   "cell_type": "markdown",
   "metadata": {
    "tags": []
   },
   "source": [
    "# Lab | Data Structures "
   ]
  },
  {
   "cell_type": "markdown",
   "metadata": {},
   "source": [
    "## Exercise: Managing Customer Orders\n",
    "\n",
    "As part of a business venture, you are starting an online store that sells various products. To ensure smooth operations, you need to develop a program that manages customer orders and inventory.\n",
    "\n",
    "Follow the steps below to complete the exercise:\n",
    "\n",
    "1. Define a list called `products` that contains the following items: \"t-shirt\", \"mug\", \"hat\", \"book\", \"keychain\".\n",
    "\n",
    "2. Create an empty dictionary called `inventory`.\n",
    "\n",
    "3. Ask the user to input the quantity of each product available in the inventory. Use the product names from the `products` list as keys in the `inventory` dictionary and assign the respective quantities as values.\n",
    "\n",
    "4. Create an empty set called `customer_orders`.\n",
    "\n",
    "5. Ask the user to input the name of three products that a customer wants to order (from those in the products list, meaning three products out of \"t-shirt\", \"mug\", \"hat\", \"book\" or \"keychain\". Add each product name to the `customer_orders` set.\n",
    "\n",
    "6. Print the products in the `customer_orders` set.\n",
    "\n",
    "7. Calculate the following order statistics:\n",
    "   - Total Products Ordered: The total number of products in the `customer_orders` set.\n",
    "   - Percentage of Products Ordered: The percentage of products ordered compared to the total available products.\n",
    "   \n",
    "   Store these statistics in a tuple called `order_status`.\n",
    "\n",
    "8. Print the order statistics using the following format:\n",
    "   ```\n",
    "   Order Statistics:\n",
    "   Total Products Ordered: <total_products_ordered>\n",
    "   Percentage of Products Ordered: <percentage_ordered>% \n",
    "   ```\n",
    "\n",
    "9. Update the inventory by subtracting 1 from the quantity of each product. Modify the `inventory` dictionary accordingly.\n",
    "\n",
    "10. Print the updated inventory, displaying the quantity of each product on separate lines.\n",
    "\n",
    "Solve the exercise by implementing the steps using the Python concepts of lists, dictionaries, sets, and basic input/output operations. "
   ]
  },
  {
   "cell_type": "code",
   "execution_count": 17,
   "metadata": {},
   "outputs": [
    {
     "name": "stdin",
     "output_type": "stream",
     "text": [
      "Enter the quatity of t-shirt 45\n",
      "Enter the quatity of mug 25\n",
      "Enter the quatity of hat 14\n",
      "Enter the quatity of book 56\n",
      "Enter the quatity of keychain 25\n",
      "Type a product you'd like to buy:  mug\n",
      "Type a product you'd like to buy:  book\n",
      "Type a product you'd like to buy:  hat\n"
     ]
    },
    {
     "name": "stdout",
     "output_type": "stream",
     "text": [
      "You have succesfully selected 3 products: ['mug', 'book', 'hat']\n",
      "Order status ('1.8181818181818181%', 165)\n",
      "------Order Statistics------\n",
      "Total Products Ordered: 3\n",
      "Percentage of products Ordered: 1.8181818181818181%\n",
      "Updated inventory:{'t-shirt': 44, 'mug': 24, 'hat': 13, 'book': 55, 'keychain': 24}\n",
      "{'t-shirt': 44,\n",
      " 'mug': 24,\n",
      " 'hat': 13,\n",
      " 'book': 55,\n",
      " 'keychain': 24}\n"
     ]
    }
   ],
   "source": [
    "products = [\"t-shirt\", \"mug\", \"hat\", \"book\", \"keychain\"]\n",
    "inventory = {}\n",
    "quantities = []\n",
    "customer_orders = []\n",
    "\n",
    "\n",
    "for i in products: # Ask the user to input the quantity of each product available in the inventory\n",
    "    quantity_input = int(input(f\"Enter the quatity of {i}\"))\n",
    "    quantities.append(quantity_input)\n",
    "    \n",
    "# print(quantities)\n",
    "\n",
    "for i in products: # Use the product names from the products list as keys in the inventory dictionary\n",
    "    inventory[i] = None\n",
    " \n",
    "# print(inventory, \"inventory\")\n",
    "\n",
    "for key,value in zip(inventory, quantities): # Assign quantities as values\n",
    "    inventory[key] = value\n",
    "\n",
    "# print(inventory)\n",
    "\n",
    "\n",
    "while len(customer_orders) <= 2: # Input 3 items to buy\n",
    "    order_input = input(\"Type a product you'd like to buy: \")\n",
    "\n",
    "    if order_input not in products: # Item must be on the list\n",
    "        print(\"Product must be in the list\")\n",
    "\n",
    "    else: \n",
    "        customer_orders.append(order_input)\n",
    "\n",
    "# print(customer_orders)\n",
    "\n",
    "print(f\"You have succesfully selected 3 products: {customer_orders}\") # List of items bought\n",
    "\n",
    "percentage_ordered = str(3*100 / sum(quantities)) + \"%\" # Calculating the percentage of items\n",
    "order_status = (percentage_ordered, sum(quantities)) # Order status tuple\n",
    "\n",
    "print(\"Order status\", order_status)\n",
    "\n",
    "print(\"------Order Statistics------\")\n",
    "print(f\"Total Products Ordered: {len(customer_orders)}\")\n",
    "print(f\"Percentage of products Ordered: {percentage_ordered}\")\n",
    "\n",
    "\n",
    "for i in inventory: # Substracting 1 to all values\n",
    "    inventory[i] -= 1\n",
    "\n",
    "print(f\"Updated inventory:{inventory}\")\n",
    "\n",
    "import pprint\n",
    "pprint.pprint(inventory, width=1, sort_dicts=False )\n",
    "\n",
    "\n"
   ]
  },
  {
   "cell_type": "code",
   "execution_count": null,
   "metadata": {},
   "outputs": [],
   "source": []
  }
 ],
 "metadata": {
  "kernelspec": {
   "display_name": "Python 3 (ipykernel)",
   "language": "python",
   "name": "python3"
  },
  "language_info": {
   "codemirror_mode": {
    "name": "ipython",
    "version": 3
   },
   "file_extension": ".py",
   "mimetype": "text/x-python",
   "name": "python",
   "nbconvert_exporter": "python",
   "pygments_lexer": "ipython3",
   "version": "3.12.7"
  }
 },
 "nbformat": 4,
 "nbformat_minor": 4
}
